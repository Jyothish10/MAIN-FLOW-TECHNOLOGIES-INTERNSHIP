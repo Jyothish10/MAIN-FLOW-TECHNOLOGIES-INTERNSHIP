{
  "nbformat": 4,
  "nbformat_minor": 0,
  "metadata": {
    "colab": {
      "provenance": []
    },
    "kernelspec": {
      "name": "python3",
      "display_name": "Python 3"
    },
    "language_info": {
      "name": "python"
    }
  },
  "cells": [
    {
      "cell_type": "code",
      "execution_count": 29,
      "metadata": {
        "id": "UC3cYGMfMV2J"
      },
      "outputs": [],
      "source": [
        "import pandas as pd\n",
        "\n",
        "# Read CSV file and manipulate data frames\n",
        "\n",
        "file_path = '/content/players_20.csv'\n",
        "df = pd.read_csv(file_path)"
      ]
    },
    {
      "cell_type": "code",
      "source": [
        "#Perform simple data cleaning tasks\n",
        "#Drop rows with missing values\n",
        "df.dropna(inplace=True)\n",
        "\n",
        "#Remove duplicate rows\n",
        "df.drop_duplicates(inplace=True)"
      ],
      "metadata": {
        "id": "3IkCurlNOEUs"
      },
      "execution_count": 30,
      "outputs": []
    },
    {
      "cell_type": "code",
      "source": [
        "# Displaying results (optional)\n",
        "print(\"Original DataFrame:\")\n",
        "print(df.head())"
      ],
      "metadata": {
        "colab": {
          "base_uri": "https://localhost:8080/"
        },
        "id": "BlffKMuSPPh5",
        "outputId": "255302ed-cd49-4840-b596-baf330934b2b"
      },
      "execution_count": 31,
      "outputs": [
        {
          "output_type": "stream",
          "name": "stdout",
          "text": [
            "Original DataFrame:\n",
            "          short_name                            long_name  age  weight_kg  \\\n",
            "0           L. Messi       Lionel Andrés Messi Cuccittini   32         72   \n",
            "1  Cristiano Ronaldo  Cristiano Ronaldo dos Santos Aveiro   34         83   \n",
            "2          Neymar Jr        Neymar da Silva Santos Junior   27         68   \n",
            "3           J. Oblak                            Jan Oblak   26         87   \n",
            "4          E. Hazard                          Eden Hazard   28         74   \n",
            "\n",
            "  nationality                 club  overall  wage_eur player_positions  \\\n",
            "0   Argentina         FC Barcelona       94    565000       RW, CF, ST   \n",
            "1    Portugal             Juventus       93    405000           ST, LW   \n",
            "2      Brazil  Paris Saint-Germain       92    290000          LW, CAM   \n",
            "3    Slovenia      Atlético Madrid       91    125000               GK   \n",
            "4     Belgium          Real Madrid       91    470000           LW, CF   \n",
            "\n",
            "  preferred_foot  international_reputation  weak_foot  skill_moves  \\\n",
            "0           Left                         5          4            4   \n",
            "1          Right                         5          4            5   \n",
            "2          Right                         5          5            5   \n",
            "3          Right                         3          3            1   \n",
            "4          Right                         4          4            4   \n",
            "\n",
            "  team_position  team_jersey_number  Unnamed: 15  contract_valid_until  \\\n",
            "0            RW                10.0          NaN                2021.0   \n",
            "1            LW                 7.0          NaN                2022.0   \n",
            "2           CAM                10.0          NaN                2022.0   \n",
            "3            GK                13.0          NaN                2023.0   \n",
            "4            LW                 7.0          NaN                2024.0   \n",
            "\n",
            "  nation_position  nation_jersey_number  \n",
            "0             NaN                   NaN  \n",
            "1              LS                   7.0  \n",
            "2              LW                  10.0  \n",
            "3              GK                   1.0  \n",
            "4              LF                  10.0  \n"
          ]
        }
      ]
    },
    {
      "cell_type": "markdown",
      "source": [
        "Data manipulation operations"
      ],
      "metadata": {
        "id": "U0Ie5sMKOLrx"
      }
    },
    {
      "cell_type": "markdown",
      "source": [
        "Filtering data"
      ],
      "metadata": {
        "id": "pazsPTmZQWKF"
      }
    },
    {
      "cell_type": "code",
      "source": [
        "\n",
        "# Filter rows where 'column_name' equals a certain value\n",
        "filtered_df = df[df['team_jersey_number'] == 10]\n",
        "print(\"\\nFiltered DataFrame:\")\n",
        "print(filtered_df['short_name'])\n"
      ],
      "metadata": {
        "colab": {
          "base_uri": "https://localhost:8080/"
        },
        "id": "I4ZktIOnOGNS",
        "outputId": "ec3a6d74-286d-41d5-e62f-d505a1320f0c"
      },
      "execution_count": 32,
      "outputs": [
        {
          "output_type": "stream",
          "name": "stdout",
          "text": [
            "\n",
            "Filtered DataFrame:\n",
            "0                L. Messi\n",
            "2               Neymar Jr\n",
            "8               L. Modrić\n",
            "12                H. Kane\n",
            "17              S. Agüero\n",
            "               ...       \n",
            "16723        B. Palmezano\n",
            "16749    E. Maulana Vikri\n",
            "17055         Ji Xiaoxuan\n",
            "17067          R. Cretaro\n",
            "17070        M. McCrudden\n",
            "Name: short_name, Length: 581, dtype: object\n"
          ]
        }
      ]
    },
    {
      "cell_type": "markdown",
      "source": [
        "Sorting data"
      ],
      "metadata": {
        "id": "lRoE1yuNQcRK"
      }
    },
    {
      "cell_type": "code",
      "source": [
        "\n",
        "# Sort by 'column_name' in ascending order\n",
        "sorted_df = df.sort_values(by='nationality')\n",
        "print(\"\\nSorted DataFrame:\")\n",
        "print(sorted_df.head())\n"
      ],
      "metadata": {
        "colab": {
          "base_uri": "https://localhost:8080/"
        },
        "id": "1GrklQQvOlIv",
        "outputId": "9ce2b5b5-19c2-4e1f-bb3f-83a8d2a72303"
      },
      "execution_count": 33,
      "outputs": [
        {
          "output_type": "stream",
          "name": "stdout",
          "text": [
            "\n",
            "Sorted DataFrame:\n",
            "         short_name         long_name  age  weight_kg  nationality  \\\n",
            "14860      N. Husin        Noor Husin   22         65  Afghanistan   \n",
            "11806       H. Amin       Hassan Amin   27         69  Afghanistan   \n",
            "5418   A. Ajdarević  Astrit Ajdarević   29         85      Albania   \n",
            "1518     E. Berisha     Etrit Berisha   30         92      Albania   \n",
            "2811    B. Djimsiti   Berat  Djimsiti   26         83      Albania   \n",
            "\n",
            "                 club  overall  wage_eur player_positions preferred_foot  \\\n",
            "14860       Stevenage       60      2000          CM, CDM          Right   \n",
            "11806       SV Meppen       64      1000               LB           Left   \n",
            "5418   Djurgårdens IF       70      4000               CM           Left   \n",
            "1518             SPAL       76     11000               GK           Left   \n",
            "2811         Atalanta       73     34000               CB          Right   \n",
            "\n",
            "       international_reputation  weak_foot  skill_moves team_position  \\\n",
            "14860                         1          2            2           SUB   \n",
            "11806                         1          3            3            LB   \n",
            "5418                          1          2            3           LCM   \n",
            "1518                          2          2            1            GK   \n",
            "2811                          1          3            2           SUB   \n",
            "\n",
            "       team_jersey_number  Unnamed: 15  contract_valid_until nation_position  \\\n",
            "14860                12.0          NaN                2024.0             NaN   \n",
            "11806                 7.0          NaN                2020.0             NaN   \n",
            "5418                 10.0          NaN                2021.0             NaN   \n",
            "1518                 99.0          NaN                2020.0             NaN   \n",
            "2811                 19.0          NaN                2022.0             NaN   \n",
            "\n",
            "       nation_jersey_number  \n",
            "14860                   NaN  \n",
            "11806                   NaN  \n",
            "5418                    NaN  \n",
            "1518                    NaN  \n",
            "2811                    NaN  \n"
          ]
        }
      ]
    },
    {
      "cell_type": "code",
      "source": [
        "# Grouping data\n",
        "# Example: Group by 'column_name' and calculate mean of another column\n",
        "# Grouping data\n",
        "# Example: Group by 'column_name' and calculate mean of another column\n",
        "# Select numeric columns before calculating the mean\n",
        "grouped_df = df.groupby('age').agg({'team_jersey_number': 'mean'})\n",
        "print(\"\\nGrouped DataFrame:\")\n",
        "print(grouped_df.head())"
      ],
      "metadata": {
        "colab": {
          "base_uri": "https://localhost:8080/"
        },
        "id": "y8ItnCMQPH8W",
        "outputId": "814f75a3-1e2c-4447-bca2-7dd6c762fb95"
      },
      "execution_count": 35,
      "outputs": [
        {
          "output_type": "stream",
          "name": "stdout",
          "text": [
            "\n",
            "Grouped DataFrame:\n",
            "     team_jersey_number\n",
            "age                    \n",
            "16            33.083333\n",
            "17            33.672489\n",
            "18            29.657277\n",
            "19            27.904950\n",
            "20            26.555466\n"
          ]
        }
      ]
    }
  ]
}